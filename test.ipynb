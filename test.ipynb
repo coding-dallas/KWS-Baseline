{
 "cells": [
  {
   "cell_type": "code",
   "execution_count": 2,
   "metadata": {},
   "outputs": [],
   "source": [
    "#loading packages\n",
    "import torch\n",
    "import torchaudio\n",
    "from torch import nn\n",
    "from torch.utils.data import DataLoader\n",
    "import torch.optim as optim\n",
    "import torch.nn.functional as F\n",
    "\n",
    "from audio_dataloader import AudioData\n",
    "from cnn import CNNNetwork\n",
    "from tqdm import tqdm\n",
    "import matplotlib.pyplot as plt"
   ]
  },
  {
   "cell_type": "code",
   "execution_count": 3,
   "metadata": {},
   "outputs": [
    {
     "name": "stdout",
     "output_type": "stream",
     "text": [
      "cuda\n"
     ]
    }
   ],
   "source": [
    "device=('cuda' if torch.cuda.is_available() else 'cpu')\n",
    "print(device)"
   ]
  },
  {
   "cell_type": "code",
   "execution_count": 4,
   "metadata": {},
   "outputs": [],
   "source": [
    "#signal parmaters\n",
    "sample_rate=16000\n",
    "num_samples=31840\n",
    "win_length =int(0.025 * sample_rate)\n",
    "hop_length =int(0.01 * win_length)\n",
    "\n",
    "#path\n",
    "train_metadata = '/home/kesav/Documents/kesav/research/code_files/LibriPhrase/metadata/train_1word.csv'\n",
    "test_metadata = '/home/kesav/Documents/kesav/research/code_files/LibriPhrase/metadata/test_1word.csv'\n",
    "data_dir = '/home/kesav/Documents/kesav/research/code_files/LibriPhrase/database/LibriPhrase_diffspk_all'"
   ]
  },
  {
   "cell_type": "code",
   "execution_count": 5,
   "metadata": {},
   "outputs": [],
   "source": [
    "#mel-filter banks coefficients\n",
    "mel_spectrogram = torchaudio.transforms.MelSpectrogram(\n",
    "    sample_rate=sample_rate,\n",
    "    n_fft=400,\n",
    "    # win_length=win_length,\n",
    "    hop_length=160,\n",
    "    n_mels=80\n",
    "    )\n",
    "\n",
    "#loading_data from directory\n",
    "train_data=AudioData(\n",
    "        train_metadata, \n",
    "        data_dir, \n",
    "        mel_spectrogram, \n",
    "        sample_rate, \n",
    "        num_samples, \n",
    "        device\n",
    "    )\n",
    "test_data=AudioData(\n",
    "        test_metadata, \n",
    "        data_dir, \n",
    "        mel_spectrogram, \n",
    "        sample_rate, \n",
    "        num_samples, \n",
    "        device\n",
    "    )"
   ]
  },
  {
   "cell_type": "code",
   "execution_count": 6,
   "metadata": {},
   "outputs": [],
   "source": [
    "train_dataloader = DataLoader(train_data, batch_size=batch_size,drop_last=True, shuffle=True)\n",
    "test_dataloader = DataLoader(test_data, batch_size=batch_size,drop_last=True, shuffle=True)"
   ]
  },
  {
   "cell_type": "code",
   "execution_count": 43,
   "metadata": {},
   "outputs": [
    {
     "name": "stdout",
     "output_type": "stream",
     "text": [
      "torch.Size([32, 1, 80, 400])\n",
      "torch.Size([32])\n"
     ]
    }
   ],
   "source": [
    "#chekcing the data shape\n",
    "for i in train_dataloader:\n",
    "    print(i[0].shape)\n",
    "    print(i[1].shape)\n",
    "    break"
   ]
  },
  {
   "cell_type": "code",
   "execution_count": 2,
   "metadata": {},
   "outputs": [],
   "source": [
    "#hyperparameters\n",
    "batch_size = 32\n",
    "log_interval = 20\n",
    "num_epochs = 10\n",
    "in_channels = 1\n",
    "num_classes = 2\n",
    "learning_rate = 0.001"
   ]
  },
  {
   "cell_type": "code",
   "execution_count": 8,
   "metadata": {},
   "outputs": [],
   "source": [
    "#simple neural network\n",
    "class simpleNN(nn.Module):\n",
    "    def __init__(self, input, output):\n",
    "        super(simpleNN, self).__init__()\n",
    "        self.fc1=nn.Linear(input,50)\n",
    "        self.fc2=nn.Linear(50,output)\n",
    "    \n",
    "    def forward(self,x):\n",
    "        x=F.relu(self.fc1(x))\n",
    "        x=self.fc2(x)\n",
    "        return x\n",
    "    "
   ]
  },
  {
   "cell_type": "code",
   "execution_count": 72,
   "metadata": {},
   "outputs": [],
   "source": [
    "# Simple CNN\n",
    "class AudioEncoder(nn.Module):\n",
    "    def __init__(self, in_channels=1, num_classes=2):\n",
    "        super(AudioEncoder, self).__init__()\n",
    "        \n",
    "        self.conv1 = nn.Conv1d(in_channels=in_channels,out_channels=8,kernel_size=5,stride=2,padding=1)\n",
    "        \n",
    "        self.bn1 = nn.BatchNorm1d(8)\n",
    "        \n",
    "        self.pool = nn.MaxPool1d(kernel_size=2, stride=2)\n",
    "        self.conv2 = nn.Conv1d(\n",
    "            in_channels=8,\n",
    "            out_channels=16,\n",
    "            kernel_size=5,\n",
    "            stride=1,\n",
    "            padding=1,\n",
    "        )\n",
    "        self.bn2 = nn.BatchNorm1d(16)\n",
    "        self.fc1 = nn.Linear(16*3998, num_classes)\n",
    "        self.dropout = nn.Dropout(0.25)\n",
    "\n",
    "    def forward(self, x):\n",
    "        # print('original', x.shape)\n",
    "        x = F.relu(self.bn1(self.conv1(x)))\n",
    "        # print('conv1', x.shape)\n",
    "        x = self.pool(x)\n",
    "        # print('ppoling 1',x.shape)\n",
    "        x = self.dropout(x)\n",
    "        x = F.relu(self.bn2(self.conv2(x)))\n",
    "        # print('conv2',x.shape)\n",
    "        x = self.pool(x)\n",
    "        # print('pooling 2',x.shape)\n",
    "        x = x.reshape(x.shape[0], -1)\n",
    "        x = self.dropout(x)\n",
    "        # print('reshaping',x.shape)\n",
    "        x = self.fc1(x)\n",
    "        # print('fully connected',x.shape)\n",
    "        return x\n"
   ]
  },
  {
   "cell_type": "code",
   "execution_count": 28,
   "metadata": {},
   "outputs": [],
   "source": [
    "\n",
    "\n",
    "# Initialize network\n",
    "model = AudioEncoder(in_channels=in_channels, num_classes=num_classes).to(device)\n",
    "print(model.parameters())\n",
    "\n",
    "# Loss and optimizer\n",
    "criterion = nn.CrossEntropyLoss()\n",
    "optimizer = optim.Adam(model.parameters(), lr=learning_rate)"
   ]
  },
  {
   "cell_type": "code",
   "execution_count": null,
   "metadata": {},
   "outputs": [],
   "source": [
    "temp={}\n",
    "loss_temp={}\n",
    "def check_accuracy(loader, model):\n",
    "    num_correct = 0\n",
    "    num_samples = 0\n",
    "    model.eval()\n",
    "\n",
    "    with torch.no_grad():\n",
    "        for x, y in loader:\n",
    "            x = x.to(device=device)\n",
    "            y = y.to(device=device)\n",
    "            # print(x.shape)\n",
    "            x = x.view(x.shape[0], x.shape[1], -1)\n",
    "            # print(x.shape)\n",
    "            scores = model(x)\n",
    "            _, predictions = scores.max(1)\n",
    "            num_correct += (predictions == y).sum()\n",
    "            num_samples += predictions.size(0)\n",
    "\n",
    "    model.train()\n",
    "    return num_correct / num_samples"
   ]
  },
  {
   "cell_type": "code",
   "execution_count": null,
   "metadata": {},
   "outputs": [],
   "source": [
    "# Train Network\n",
    "for epoch in range(num_epochs):\n",
    "    for batch_idx, (data, targets) in enumerate(tqdm(train_dataloader)):\n",
    "        # Get data to cuda if possible\n",
    "        data = data.to(device=device)\n",
    "        targets = targets.to(device=device)\n",
    "        \n",
    "        data = data.view(data.shape[0], data.shape[1], -1)\n",
    "        # print(data.shape)\n",
    "        # forward\n",
    "        scores = model(data)\n",
    "        _, predictions = scores.max(1)\n",
    "        loss = criterion(scores, targets)\n",
    "\n",
    "        # backward\n",
    "        optimizer.zero_grad()\n",
    "        loss.backward()\n",
    "        \n",
    "        # gradient descent or adam step\n",
    "        optimizer.step()\n",
    "        \n",
    "    if epoch%5==0:\n",
    "        temp[epoch]=predictions\n",
    "        loss_temp[epoch]=loss\n",
    "    \n",
    "    print(f\"Accuracy on training set: {check_accuracy(train_dataloader, model)*100:.2f}\")\n",
    "    print(f\"Accuracy on test set: {check_accuracy(test_dataloader, model)*100:.2f}\")"
   ]
  },
  {
   "cell_type": "code",
   "execution_count": 1,
   "metadata": {},
   "outputs": [
    {
     "ename": "NameError",
     "evalue": "name 'temp' is not defined",
     "output_type": "error",
     "traceback": [
      "\u001b[0;31m---------------------------------------------------------------------------\u001b[0m",
      "\u001b[0;31mNameError\u001b[0m                                 Traceback (most recent call last)",
      "\u001b[1;32m/home/kesav/Documents/kesav/research/code_files/KWS-Baseline/test.ipynb Cell 12\u001b[0m in \u001b[0;36m<cell line: 1>\u001b[0;34m()\u001b[0m\n\u001b[0;32m----> <a href='vscode-notebook-cell:/home/kesav/Documents/kesav/research/code_files/KWS-Baseline/test.ipynb#X15sZmlsZQ%3D%3D?line=0'>1</a>\u001b[0m \u001b[39mprint\u001b[39m(\u001b[39m'\u001b[39m\u001b[39mpredictions at each 10th epoch\u001b[39m\u001b[39m'\u001b[39m, temp)\n\u001b[1;32m      <a href='vscode-notebook-cell:/home/kesav/Documents/kesav/research/code_files/KWS-Baseline/test.ipynb#X15sZmlsZQ%3D%3D?line=1'>2</a>\u001b[0m \u001b[39mprint\u001b[39m(\u001b[39m'\u001b[39m\u001b[39m\\n\u001b[39;00m\u001b[39m'\u001b[39m)\n\u001b[1;32m      <a href='vscode-notebook-cell:/home/kesav/Documents/kesav/research/code_files/KWS-Baseline/test.ipynb#X15sZmlsZQ%3D%3D?line=2'>3</a>\u001b[0m \u001b[39mprint\u001b[39m(\u001b[39m'\u001b[39m\u001b[39mloss at each 10th epoch\u001b[39m\u001b[39m'\u001b[39m, loss_temp)\n",
      "\u001b[0;31mNameError\u001b[0m: name 'temp' is not defined"
     ]
    }
   ],
   "source": [
    "print('predictions at each 10th epoch', temp)\n",
    "print('\\n')\n",
    "print('loss at each 10th epoch', loss_temp)"
   ]
  },
  {
   "cell_type": "code",
   "execution_count": null,
   "metadata": {},
   "outputs": [],
   "source": []
  }
 ],
 "metadata": {
  "kernelspec": {
   "display_name": "base",
   "language": "python",
   "name": "python3"
  },
  "language_info": {
   "codemirror_mode": {
    "name": "ipython",
    "version": 3
   },
   "file_extension": ".py",
   "mimetype": "text/x-python",
   "name": "python",
   "nbconvert_exporter": "python",
   "pygments_lexer": "ipython3",
   "version": "3.9.12"
  },
  "orig_nbformat": 4
 },
 "nbformat": 4,
 "nbformat_minor": 2
}
